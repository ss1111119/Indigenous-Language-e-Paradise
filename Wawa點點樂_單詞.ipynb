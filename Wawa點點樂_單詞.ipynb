# # wawa點點樂
# from selenium import webdriver
# from selenium.webdriver.chrome.service import Service
# from selenium.webdriver.common.by import By
# from selenium.webdriver.support.ui import WebDriverWait
# from selenium.webdriver.support import expected_conditions as EC
# from bs4 import BeautifulSoup
# import pandas as pd
# import time

# # 初始化WebDriver
# chrome_driver_path = "/Users/dujiaoshou/Desktop/chromedriver-mac-arm64/chromedriver"
# service = Service(executable_path=chrome_driver_path)
# driver = webdriver.Chrome(service=service)
# wait = WebDriverWait(driver, 20)

# ---隱藏模式
from selenium import webdriver
from selenium.webdriver.chrome.service import Service
from selenium.webdriver.common.by import By
from selenium.webdriver.support.ui import WebDriverWait
from selenium.webdriver.support import expected_conditions as EC
from bs4 import BeautifulSoup
import time
import pandas as pd
from selenium.webdriver.chrome.options import Options

# 配置无头模式
chrome_options = Options()
chrome_options.add_argument("--headless")  # 启用无头模式
chrome_options.add_argument("--disable-gpu")  # 禁用GPU加速，某些系统需要

# 指定ChromeDriver路径
chrome_driver_path = "/Users/dujiaoshou/Desktop/chromedriver-mac-arm64/chromedriver"
service = Service(executable_path=chrome_driver_path)

# 使用无头模式的配置创建WebDriver实例
driver = webdriver.Chrome(service=service, options=chrome_options)
wait = WebDriverWait(driver, 20)

# 基礎URL和PID範圍
base_url = 'https://web.klokah.tw/wawa/word.php?pid={}'
pids = range(1, 7)  # PID範圍

# 语言和方言字典
language_dialect_dict = {
    # "阿美語": ["南勢阿美語", "秀姑巒阿美語", "海岸阿美語", "馬蘭阿美語", "恆春阿美語"],
    # "泰雅語": ["賽考利克泰雅語", "澤敖利泰雅語", "汶水泰雅語", "萬大泰雅語", "四季泰雅語", "宜蘭澤敖利泰雅語"],
    # "賽德克語": ["都達賽德克語", "德固達雅賽德克語", "德鹿谷賽德克語"],
    # "布農語": ["卓群布農語", "卡群布農語", "丹群布農語", "巒群布農語", "郡群布農語"],
    # "排灣語": ["東排灣語", "北排灣語", "中排灣語", "南排灣語"],
    # "魯凱語": ["東魯凱語", "霧台魯凱語", "大武魯凱語", "多納魯凱語", "茂林魯凱語", "萬山魯凱語"],
    # "卑南語": ["南王卑南語", "知本卑南語", "西群卑南語", "建和卑南語"],
    "雅美語": [],  # 沒有方言
    "撒奇萊雅語": [],  # 沒有方言
    "卡那卡那富語": [],  # 沒有方言
    "拉阿魯哇語": [],  # 沒有方言
    "太魯閣語": [],  # 沒有方言
    "噶瑪蘭語": [],  # 沒有方言
    "鄒語": [],  # 沒有方言
    "賽夏語": [],  # 沒有方言
    # "邵語": []  # 沒有方言
}


# 方言編號對應表
dialect_number_dict = {
    "南勢阿美語": 1,
    "秀姑巒阿美語": 2,
    "海岸阿美語": 3,
    "馬蘭阿美語": 4,
    "恆春阿美語": 5,
    "賽考利克泰雅語": 6,
    "澤敖利泰雅語": 7,
    "汶水泰雅語": 8,
    "萬大泰雅語": 9,
    "四季泰雅語": 10,
    "宜蘭澤敖利泰雅語": 11,
    "賽夏語": 13,
    "邵語": 14,
    "都達賽德克語": 15,
    "德固達雅賽德克語": 16,
    "德鹿谷賽德克語": 17,
    "卓群布農語": 18,
    "卡群布農語": 19,
    "丹群布農語": 20,
    "巒群布農語": 21,
    "郡群布農語": 22,
    "東排灣語": 23,
    "北排灣語": 24,
    "中排灣語": 25,
    "南排灣語": 26,
    "東魯凱語": 27,
    "霧台魯凱語": 28,
    "大武魯凱語": 29,
    "多納魯凱語": 30,
    "茂林魯凱語": 31,
    "萬山魯凱語": 32,
    "太魯閣語": 33,
    "噶瑪蘭語": 34,
    "鄒語": 35,
    "卡那卡那富語": 36,
    "拉阿魯哇語": 37,
    "南王卑南語": 38,
    "知本卑南語": 39,
    "西群卑南語": 40,
    "建和卑南語": 41,
    "雅美語": 42,
    "撒奇萊雅語": 43,
    # "無": 0  # 對於沒有方言的情況，可以分配一個特定的編號，例如0
}

# 儲存數據的列表
collected_data = []


try:
    for language, dialects in language_dialect_dict.items():
        # 如果沒有方言列表，則添加一個"無"方言標記以供下面的迴圈使用
        dialects = dialects if dialects else ["無"]
        for dialect in dialects:
            # 初始化收集數據的列表
            collected_data = []
            for pid in pids:
                print(f"訪問PID：{pid}")
                url = base_url.format(pid)
                driver.get(url)
                print(f"已訪問網址：{url}")
                time.sleep(2)  # 等待頁面加載

                # 點擊切換器，以顯示方言選擇
                switcher = wait.until(EC.element_to_be_clickable(
                    (By.CLASS_NAME, 'switcher')))
                switcher.click()
                print("已再次點擊切換器元素。")

                # 選擇語言
                language_selector = f"//a[@lch='{language}']"
                wait.until(EC.element_to_be_clickable(
                    (By.XPATH, language_selector))).click()
                print(f"已選擇語言：{language}")

                time.sleep(1)

                # 如果存在方言且方言不是"無"，選擇方言
                if dialect != "無":
                    dialect_selector = f"//a[@dch='{dialect}']"
                    wait.until(EC.element_to_be_clickable(
                        (By.XPATH, dialect_selector))).click()
                    print(f"已選擇方言：{dialect}")
                    time.sleep(5)  # 等待方言選擇生效，無需重新加載頁面

                driver.get(url)

                # 使用BeautifulSoup解析頁面內容
                soup = BeautifulSoup(driver.page_source, 'html.parser')
                words_elements = soup.find_all(class_="showword")

                for word_element in words_elements:
                    word_ab = word_element.find(class_="AB").text.strip()
                    word_ch = word_element.find(class_="CH").text.strip()
                    collected_data.append({
                        "語言": language,
                        "方言": dialect if dialect != "無" else "無",
                        "PID": pid,
                        "單詞": word_ab,
                        "釋義": word_ch
                    })

            # 將收集到的數據轉換為DataFrame
            df = pd.DataFrame(collected_data)

            # 保存到Excel文件
            if dialect != "無":
                dialect_number = dialect_number_dict.get(dialect, 0)  # 查找方言编号
                file_name = f"{dialect_number}_{dialect}_單詞.xlsx"
            else:
                # 对于没有方言的语言，使用语言编号
                language_number = dialect_number_dict.get(language, 0)  # 查找语言编号
                file_name = f"{language_number}__{language}_單詞.xlsx"  # 使用语言名称作为文件名的一部分

            df.to_excel(file_name, index=False)
            print(f"數據已保存到 {file_name} 文件中。")

except Exception as e:
    print(f"腳本執行過程中發生錯誤：{e}")
finally:
    driver.quit()

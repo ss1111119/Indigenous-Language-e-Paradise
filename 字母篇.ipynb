{
  "nbformat": 4,
  "nbformat_minor": 0,
  "metadata": {
    "colab": {
      "provenance": [],
      "authorship_tag": "ABX9TyPwvJWd6naZRzkv77eq3HA/",
      "include_colab_link": true
    },
    "kernelspec": {
      "name": "python3",
      "display_name": "Python 3"
    },
    "language_info": {
      "name": "python"
    }
  },
  "cells": [
    {
      "cell_type": "markdown",
      "metadata": {
        "id": "view-in-github",
        "colab_type": "text"
      },
      "source": [
        "<a href=\"https://colab.research.google.com/github/ss1111119/Indigenous-Language-e-Paradise/blob/main/%E5%AD%97%E6%AF%8D%E7%AF%87.ipynb\" target=\"_parent\"><img src=\"https://colab.research.google.com/assets/colab-badge.svg\" alt=\"Open In Colab\"/></a>"
      ]
    },
    {
      "cell_type": "code",
      "execution_count": null,
      "metadata": {
        "id": "7IPniQ0EM32p"
      },
      "outputs": [],
      "source": [
        "# 字母篇\n",
        "import requests\n",
        "import xml.etree.ElementTree as ET\n",
        "import pandas as pd\n",
        "\n",
        "# 定義語言編號和名稱\n",
        "languages = [\n",
        "    (1, \"南勢阿美語\"),\n",
        "    (2, \"秀姑巒阿美語\"),\n",
        "    (3, \"海岸阿美語\"),\n",
        "    (4, \"馬蘭阿美語\"),\n",
        "    (5, \"恆春阿美語\"),\n",
        "    (6, \"賽考利克泰雅語\"),\n",
        "    (7, \"澤敖利泰雅語\"),\n",
        "    (8, \"汶水泰雅語\"),\n",
        "    (9, \"萬大泰雅語\"),\n",
        "    (10, \"四季泰雅語\"),\n",
        "    (11, \"宜蘭澤敖利泰雅語\"),\n",
        "    (13, \"賽夏語\"),\n",
        "    (14, \"邵語\"),\n",
        "    (15, \"都達賽德克語\"),\n",
        "    (16, \"德固達雅賽德克語\"),\n",
        "    (17, \"德鹿谷賽德克語\"),\n",
        "    (18, \"卓群布農語\"),\n",
        "    (19, \"卡群布農語\"),\n",
        "    (20, \"丹群布農語\"),\n",
        "    (21, \"巒群布農語\"),\n",
        "    (22, \"郡群布農語\"),\n",
        "    (23, \"東排灣語\"),\n",
        "    (24, \"北排灣語\"),\n",
        "    (25, \"中排灣語\"),\n",
        "    (26, \"南排灣語\"),\n",
        "    (27, \"東魯凱語\"),\n",
        "    (28, \"霧台魯凱語\"),\n",
        "    (29, \"大武魯凱語\"),\n",
        "    (30, \"多納魯凱語\"),\n",
        "    (31, \"茂林魯凱語\"),\n",
        "    (32, \"萬山魯凱語\"),\n",
        "    (33, \"太魯閣語\"),\n",
        "    (34, \"噶瑪蘭語\"),\n",
        "    (35, \"鄒語\"),\n",
        "    (38, \"南王卑南語\"),\n",
        "    (39, \"知本卑南語\"),\n",
        "    (40, \"西群卑南語\"),\n",
        "    (41, \"建和卑南語\"),\n",
        "    (42, \"雅美語\"),\n",
        "    (43, \"撒奇萊雅語\"),\n",
        "    (36, \"卡那卡那富語\"),\n",
        "    (37, \"拉阿魯哇語\")\n",
        "]\n",
        "\n",
        "# 遍歷每種語言\n",
        "for language_id, language_name in languages:\n",
        "    url = f\"https://web.klokah.tw/extension/ab_data/xml/{language_id}/alphabet.xml\"\n",
        "    response = requests.post(url)\n",
        "\n",
        "    data_list = []  # 每個語言開始時初始化數據列表\n",
        "\n",
        "    if response.status_code == 200:\n",
        "        root = ET.fromstring(response.content)\n",
        "        print(f\"處理語言: {language_name}\")\n",
        "\n",
        "        for alphabet in root.findall('alphabet'):\n",
        "            for i in range(1, int(alphabet.find('wordnumber').text) + 1):\n",
        "                word = alphabet.find(f'word{i}').text\n",
        "                meaning = alphabet.find(f'meaning{i}').text\n",
        "                data_list.append({\n",
        "                    \"字母符號\": alphabet.find('alphabetSymbol').text,\n",
        "                    \"單詞\": word,\n",
        "                    \"意義\": meaning\n",
        "                })\n",
        "    else:\n",
        "        print(f\"請求語言{language_name}失敗，狀態碼: {response.status_code}\")\n",
        "\n",
        "    df = pd.DataFrame(data_list)\n",
        "    filename = f\"{language_id}_{language_name}.xlsx\"\n",
        "    df.to_excel(filename, index=False)\n",
        "    print(f\"{language_name}的數據已保存至 {filename}\")\n"
      ]
    }
  ]
}